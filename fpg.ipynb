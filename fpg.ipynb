{
 "cells": [
  {
   "cell_type": "code",
   "execution_count": 57,
   "metadata": {},
   "outputs": [],
   "source": [
    "import os\n",
    "import sys\n",
    "from itertools import combinations\n",
    "from node import Node"
   ]
  },
  {
   "cell_type": "code",
   "execution_count": 58,
   "metadata": {},
   "outputs": [],
   "source": [
    "def frequent(current_node, items):\n",
    "\n",
    "    items = set(items)\n",
    "\n",
    "    while current_node.children:\n",
    "        if current_node.item:\n",
    "            items.add(current_node.item)\n",
    "        current_node = current_node.children[0]\n",
    "\n",
    "    patterns = []\n",
    "\n",
    "    for length in range(2, len(items) + 1):\n",
    "        patterns += combinations(items, length)\n",
    "\n",
    "    return patterns\n",
    "\n"
   ]
  },
  {
   "cell_type": "code",
   "execution_count": 59,
   "metadata": {},
   "outputs": [],
   "source": [
    "def init_count_map(transactions):\n",
    "    count_map = {}\n",
    "\n",
    "    for transaction in transactions:\n",
    "        for item in transaction:\n",
    "            count_map.setdefault(item, 1)\n",
    "            count_map[item] += 1\n",
    "    return count_map"
   ]
  },
  {
   "cell_type": "code",
   "execution_count": 60,
   "metadata": {},
   "outputs": [],
   "source": [
    "def init_conditional_pattern(node_items, items):\n",
    "    conditional_pattern = {_id: {} for _id in items}\n",
    "    for _id, item_nodes in node_items:\n",
    "        for item_node in item_nodes:\n",
    "            conditional_pattern[_id].update(item_node.pattern())\n",
    "    \n",
    "    return conditional_pattern"
   ]
  },
  {
   "cell_type": "code",
   "execution_count": 61,
   "metadata": {},
   "outputs": [],
   "source": [
    "def backtrack(node_links, items, conditional_items = None):\n",
    "    if not conditional_items:\n",
    "        conditional_items = []\n",
    "\n",
    "    node_items = node_links.items()\n",
    "\n",
    "    conditional_pattern = init_conditional_pattern(node_items, items)\n",
    "    for _id, item_nodes in node_items:\n",
    "        for item_node in item_nodes:\n",
    "            conditional_pattern[_id].update(item_node.pattern())\n",
    "\n",
    "    # generate fpt\n",
    "    patterns = set()\n",
    "\n",
    "    for _id, cond_pattern in conditional_pattern.items():\n",
    "        tree = Node()\n",
    "        tree_nodes = {_id: [] for _id in items}\n",
    "\n",
    "        count_map = init_count_map(cond_pattern)\n",
    "        for conditional_pattern_base in cond_pattern:\n",
    "            tree.append(sorted(\n",
    "                list(conditional_pattern_base),\n",
    "                key=lambda item: count_map[item],\n",
    "                reverse=True\n",
    "            ), tree_nodes)\n",
    "\n",
    "        if tree.is_single_path():\n",
    "            for pattern in frequent(tree, conditional_items + [_id]):\n",
    "                patterns.add(pattern)\n",
    "        else:\n",
    "            patterns = patterns.union(backtrack(tree_nodes, items, conditional_items + [_id]))\n",
    "\n",
    "    return patterns"
   ]
  },
  {
   "cell_type": "code",
   "execution_count": 62,
   "metadata": {},
   "outputs": [],
   "source": [
    "def association_to_string(transactions,itemset,subset,min_sup, min_conf):\n",
    "    try:\n",
    "        seen = association_to_string._seen\n",
    "    except AttributeError:\n",
    "        seen = []\n",
    "        association_to_string._seen = seen\n",
    "\n",
    "    keys = (tuple(sorted(itemset)), tuple(sorted(subset)))\n",
    "    if keys in seen:\n",
    "        return\n",
    "    else:\n",
    "        seen.append(keys)\n",
    "\n",
    "    count_l = 0\n",
    "    count_s = 0\n",
    "\n",
    "    for transaction in transactions:\n",
    "        if all(item in transaction for item in itemset):\n",
    "            count_l += 1\n",
    "\n",
    "        if all(item in transaction for item in subset):\n",
    "            count_s += 1\n",
    "\n",
    "    support = count_l / len(transactions)\n",
    "    confidence = count_l / count_s\n",
    "\n",
    "    if support >= min_sup and confidence > min_conf:\n",
    "        print(f\"Association Rule: l: {subset} s :{itemset.difference(subset)} --> support:{round(support, 3)}, confidence:{round(confidence, 3)}\")\n"
   ]
  },
  {
   "cell_type": "code",
   "execution_count": 55,
   "metadata": {},
   "outputs": [],
   "source": [
    "def init_root_transaction(root, transactions_set, count_map, node_links):\n",
    "    for transaction in transactions_set:\n",
    "        root.append(sorted(transaction, key=lambda item: count_map[item], reverse=True), node_links)\n",
    "\n",
    "def read_input(input_file):\n",
    "    transactions_set = []\n",
    "    with open(input_file, \"r\") as file:\n",
    "        for line in file:\n",
    "            transactions_set.append([item for item in line.strip().split(\",\") if item])\n",
    "    \n",
    "    return transactions_set\n",
    "\n",
    "def constuct_union_subset(pattern):\n",
    "    subsets = set()\n",
    "    for length in range(1, len(pattern)):\n",
    "            subsets = subsets.union(set(combinations(pattern, length)))\n",
    "    return subsets"
   ]
  },
  {
   "cell_type": "code",
   "execution_count": 56,
   "metadata": {},
   "outputs": [
    {
     "ename": "TypeError",
     "evalue": "'set' object is not callable",
     "output_type": "error",
     "traceback": [
      "\u001b[1;31m---------------------------------------------------------------------------\u001b[0m",
      "\u001b[1;31mTypeError\u001b[0m                                 Traceback (most recent call last)",
      "\u001b[1;32m<ipython-input-56-f3cf298ffab6>\u001b[0m in \u001b[0;36m<module>\u001b[1;34m\u001b[0m\n\u001b[0;32m     13\u001b[0m \u001b[0minit_root_transaction\u001b[0m\u001b[1;33m(\u001b[0m\u001b[0mroot\u001b[0m\u001b[1;33m,\u001b[0m \u001b[0mtransactions_set\u001b[0m\u001b[1;33m,\u001b[0m \u001b[0mcount_map\u001b[0m\u001b[1;33m,\u001b[0m \u001b[0mnode_links\u001b[0m\u001b[1;33m)\u001b[0m\u001b[1;33m\u001b[0m\u001b[1;33m\u001b[0m\u001b[0m\n\u001b[0;32m     14\u001b[0m \u001b[1;33m\u001b[0m\u001b[0m\n\u001b[1;32m---> 15\u001b[1;33m \u001b[0mfrequent\u001b[0m \u001b[1;33m=\u001b[0m \u001b[0mbacktrack\u001b[0m\u001b[1;33m(\u001b[0m\u001b[0mnode_links\u001b[0m\u001b[1;33m,\u001b[0m \u001b[0mitems\u001b[0m\u001b[1;33m=\u001b[0m\u001b[0mlist\u001b[0m\u001b[1;33m(\u001b[0m\u001b[0mcount_map\u001b[0m\u001b[1;33m.\u001b[0m\u001b[0mkeys\u001b[0m\u001b[1;33m(\u001b[0m\u001b[1;33m)\u001b[0m\u001b[1;33m)\u001b[0m\u001b[1;33m)\u001b[0m\u001b[1;33m\u001b[0m\u001b[1;33m\u001b[0m\u001b[0m\n\u001b[0m\u001b[0;32m     16\u001b[0m \u001b[1;32mfor\u001b[0m \u001b[0mpattern\u001b[0m \u001b[1;32min\u001b[0m \u001b[0mfrequent\u001b[0m\u001b[1;33m:\u001b[0m\u001b[1;33m\u001b[0m\u001b[1;33m\u001b[0m\u001b[0m\n\u001b[0;32m     17\u001b[0m     \u001b[0msubsets\u001b[0m \u001b[1;33m=\u001b[0m \u001b[0mconstuct_union_subset\u001b[0m\u001b[1;33m(\u001b[0m\u001b[0mpattern\u001b[0m\u001b[1;33m)\u001b[0m\u001b[1;33m\u001b[0m\u001b[1;33m\u001b[0m\u001b[0m\n",
      "\u001b[1;32m<ipython-input-50-b67ad28caa03>\u001b[0m in \u001b[0;36mbacktrack\u001b[1;34m(node_links, items, conditional_items)\u001b[0m\n\u001b[0;32m     26\u001b[0m \u001b[1;33m\u001b[0m\u001b[0m\n\u001b[0;32m     27\u001b[0m         \u001b[1;32mif\u001b[0m \u001b[0mtree\u001b[0m\u001b[1;33m.\u001b[0m\u001b[0mis_single_path\u001b[0m\u001b[1;33m(\u001b[0m\u001b[1;33m)\u001b[0m\u001b[1;33m:\u001b[0m\u001b[1;33m\u001b[0m\u001b[1;33m\u001b[0m\u001b[0m\n\u001b[1;32m---> 28\u001b[1;33m             \u001b[1;32mfor\u001b[0m \u001b[0mpattern\u001b[0m \u001b[1;32min\u001b[0m \u001b[0mfrequent\u001b[0m\u001b[1;33m(\u001b[0m\u001b[0mtree\u001b[0m\u001b[1;33m,\u001b[0m \u001b[0mconditional_items\u001b[0m \u001b[1;33m+\u001b[0m \u001b[1;33m[\u001b[0m\u001b[0m_id\u001b[0m\u001b[1;33m]\u001b[0m\u001b[1;33m)\u001b[0m\u001b[1;33m:\u001b[0m\u001b[1;33m\u001b[0m\u001b[1;33m\u001b[0m\u001b[0m\n\u001b[0m\u001b[0;32m     29\u001b[0m                 \u001b[0mpatterns\u001b[0m\u001b[1;33m.\u001b[0m\u001b[0madd\u001b[0m\u001b[1;33m(\u001b[0m\u001b[0mpattern\u001b[0m\u001b[1;33m)\u001b[0m\u001b[1;33m\u001b[0m\u001b[1;33m\u001b[0m\u001b[0m\n\u001b[0;32m     30\u001b[0m         \u001b[1;32melse\u001b[0m\u001b[1;33m:\u001b[0m\u001b[1;33m\u001b[0m\u001b[1;33m\u001b[0m\u001b[0m\n",
      "\u001b[1;31mTypeError\u001b[0m: 'set' object is not callable"
     ]
    }
   ],
   "source": [
    "min_sup = 0.4\n",
    "min_conf = 0.6\n",
    "input_file = \"data.csv\" \n",
    "\n",
    "\n",
    "transactions_set = read_input(input_file)\n",
    "\n",
    "\n",
    "count_map = init_count_map(transactions_set)\n",
    "node_links = {_id: [] for _id in count_map.keys()}\n",
    "\n",
    "root = Node()\n",
    "init_root_transaction(root, transactions_set, count_map, node_links)\n",
    "\n",
    "frequent = backtrack(node_links, items=list(count_map.keys()))\n",
    "for pattern in frequent:\n",
    "    subsets = constuct_union_subset(pattern)\n",
    "\n",
    "    pattern = set(pattern)\n",
    "    for subset in subsets:    \n",
    "        subset = set(subset)\n",
    "        association_to_string(transactions_set, pattern, subset, min_sup, min_conf)"
   ]
  },
  {
   "cell_type": "code",
   "execution_count": null,
   "metadata": {},
   "outputs": [],
   "source": []
  }
 ],
 "metadata": {
  "kernelspec": {
   "display_name": "Python 3",
   "language": "python",
   "name": "python3"
  },
  "language_info": {
   "codemirror_mode": {
    "name": "ipython",
    "version": 3
   },
   "file_extension": ".py",
   "mimetype": "text/x-python",
   "name": "python",
   "nbconvert_exporter": "python",
   "pygments_lexer": "ipython3",
   "version": "3.8.5"
  }
 },
 "nbformat": 4,
 "nbformat_minor": 4
}
