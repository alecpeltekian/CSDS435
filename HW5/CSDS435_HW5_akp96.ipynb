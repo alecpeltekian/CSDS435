{
 "cells": [
  {
   "cell_type": "code",
   "execution_count": 3,
   "metadata": {},
   "outputs": [],
   "source": [
    "import numpy as np"
   ]
  },
  {
   "cell_type": "code",
   "execution_count": 10,
   "metadata": {},
   "outputs": [],
   "source": [
    "def init_weight():\n",
    "    w1 = [[0.1, 0, 0.3], [-0.2, 0.2, -0.4]]\n",
    "    w2 = [[-0.4, 0.2], [0.1, -0.1], [0.6, -0.2]]\n",
    "    b1 = [0.1, 0.2, 0.5]\n",
    "    b2 = [-0.1, 0.6]\n",
    "\n",
    "    w1 = np.asarray(w1)\n",
    "    w2 = np.asarray(w2)\n",
    "    b1 = np.asarray(b1)\n",
    "    b2 = np.asarray(b2)\n",
    "\n",
    "    weight = {\"w1\": w1, \"w2\": w2, \"b1\": b1, \"b2\": b2}\n",
    "\n",
    "    return weight"
   ]
  },
  {
   "cell_type": "code",
   "execution_count": 11,
   "metadata": {},
   "outputs": [],
   "source": [
    "def sigmoid(feeder):\n",
    "    return 1 / (1 + np.exp(-feeder))"
   ]
  },
  {
   "cell_type": "code",
   "execution_count": 12,
   "metadata": {},
   "outputs": [],
   "source": [
    "def sigmoid_prime(feeder):\n",
    "    return sigmoid(feeder) * (1 - sigmoid(feeder))"
   ]
  },
  {
   "cell_type": "code",
   "execution_count": 13,
   "metadata": {},
   "outputs": [],
   "source": [
    "def forwarding(input, weight):\n",
    "    res1 = np.dot(input, weight['w1']) + weight['b1']\n",
    "    res2 = sigmoid(res1)\n",
    "\n",
    "    res3 = np.dot(res2, weight['w2']) + weight['b2']\n",
    "    res4 = sigmoid(res3)\n",
    "    return res1, res2, res3, res4"
   ]
  },
  {
   "cell_type": "code",
   "execution_count": 14,
   "metadata": {},
   "outputs": [],
   "source": [
    "def epoch(input, weight, label, lr=0.1):\n",
    "    \n",
    "    # forwarding\n",
    "    res1, res2, res3 ,res4 = forwarding(input, weight)\n",
    "\n",
    "    # networks error\n",
    "    error = label - res4\n",
    "    \n",
    "    # backpropagation\n",
    "    tmp = sigmoid_prime(res3)\n",
    "    delta2 = error * tmp\n",
    "    tmp1 = np.dot(delta2, weight['w2'].T)\n",
    "\n",
    "    weight['w1'] = np.add(weight['w1'], lr * np.dot(input.T, sigmoid_prime(res1) * tmp1) )\n",
    "    weight['b1'] = np.add(weight['b1'], lr * np.sum(sigmoid_prime(res1) * tmp1))\n",
    "\n",
    "    weight['w2'] = np.add(weight['w2'], lr * np.dot(res2.T, error * tmp))\n",
    "    weight['b2'] = np.add(weight['b2'], lr * np.sum(error * tmp))\n",
    "\n",
    "    return weight"
   ]
  },
  {
   "cell_type": "code",
   "execution_count": 18,
   "metadata": {},
   "outputs": [
    {
     "name": "stdout",
     "output_type": "stream",
     "text": [
      "\n",
      "Iteration 1\n",
      "w1_3 0.09921905986068472\n",
      "w1_4 0.00028193049047955596\n",
      "w1_5 0.30088304843110975\n",
      "w2_3 -0.1996634527966704\n",
      "w2_4 0.1999037058494007\n",
      "w2_5 -0.4004655028373439\n",
      "w3_6 -0.400575713769324\n",
      "w3_7 0.19662532319181147\n",
      "w4_6 0.09900046831230118\n",
      "w4_7 -0.10323465936778335\n",
      "w5_6 0.5995862765452002\n",
      "w5_7 -0.2043221703667309\n",
      "\n",
      "b3 0.09991692401630868\n",
      "b4 0.1999169240163087\n",
      "b5 0.49991692401630866\n",
      "b6 -0.10755233260370387\n",
      "b7 0.5924476673962962\n"
     ]
    }
   ],
   "source": [
    "input = [[0.6, 0.1], [0.2, 0.3]]\n",
    "\n",
    "label = [[1, 0], [0, 1]]\n",
    "\n",
    "input = np.asarray(input)\n",
    "label = np.asarray(label)\n",
    "\n",
    "weight = init_weight()\n",
    "\n",
    "for i in range(1):\n",
    "    weight = epoch(input, weight, label)\n",
    "    print()\n",
    "    print('Iteration', i + 1)\n",
    "    print('w1_3' , weight['w1'][0][0])\n",
    "    print('w1_4' , weight['w1'][0][1])\n",
    "    print('w1_5' , weight['w1'][0][2])\n",
    "    print('w2_3' , weight['w1'][1][0])\n",
    "    print('w2_4' , weight['w1'][1][1])\n",
    "    print('w2_5' , weight['w1'][1][2])\n",
    "    print('w3_6' , weight['w2'][0][0])\n",
    "    print('w3_7' , weight['w2'][0][1])\n",
    "    print('w4_6' , weight['w2'][1][0])\n",
    "    print('w4_7' , weight['w2'][1][1])\n",
    "    print('w5_6' , weight['w2'][2][0])\n",
    "    print('w5_7' , weight['w2'][2][1])\n",
    "    print()\n",
    "    print('b3' , weight['b1'][0])\n",
    "    print('b4' , weight['b1'][1])\n",
    "    print('b5' , weight['b1'][2])\n",
    "    print('b6' , weight['b2'][0])\n",
    "    print('b7' , weight['b2'][1])\n",
    "    "
   ]
  }
 ],
 "metadata": {
  "kernelspec": {
   "display_name": "Python 3",
   "language": "python",
   "name": "python3"
  },
  "language_info": {
   "codemirror_mode": {
    "name": "ipython",
    "version": 3
   },
   "file_extension": ".py",
   "mimetype": "text/x-python",
   "name": "python",
   "nbconvert_exporter": "python",
   "pygments_lexer": "ipython3",
   "version": "3.7.6"
  }
 },
 "nbformat": 4,
 "nbformat_minor": 4
}
