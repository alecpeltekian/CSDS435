{
 "cells": [
  {
   "cell_type": "code",
   "execution_count": 1,
   "metadata": {
    "colab": {
     "base_uri": "https://localhost:8080/"
    },
    "id": "_yAqT2RRshU8",
    "outputId": "b0214f0b-56f6-4e11-b73b-122057944dec"
   },
   "outputs": [
    {
     "name": "stdout",
     "output_type": "stream",
     "text": [
      "Requirement already satisfied: libsvm in /opt/anaconda3/lib/python3.7/site-packages (3.23.0.4)\r\n"
     ]
    }
   ],
   "source": [
    "!pip install libsvm"
   ]
  },
  {
   "cell_type": "code",
   "execution_count": 2,
   "metadata": {
    "colab": {
     "base_uri": "https://localhost:8080/"
    },
    "id": "NxBczBntsk9Y",
    "outputId": "a7fa23c1-41b3-4873-9195-08145a098db7"
   },
   "outputs": [
    {
     "name": "stdout",
     "output_type": "stream",
     "text": [
      "unzip:  cannot find or open DogsVsCats.zip, DogsVsCats.zip.zip or DogsVsCats.zip.ZIP.\r\n"
     ]
    }
   ],
   "source": [
    "!unzip DogsVsCats.zip"
   ]
  },
  {
   "cell_type": "code",
   "execution_count": 3,
   "metadata": {
    "colab": {
     "base_uri": "https://localhost:8080/"
    },
    "id": "BFhkpTPhsbn4",
    "outputId": "62f1324a-fffd-4b1e-8bfa-12e8e72f1a33"
   },
   "outputs": [
    {
     "ename": "FileNotFoundError",
     "evalue": "[Errno 2] No such file or directory: '/content/DogsVsCats/DogsVsCats/DogsVsCats.train'",
     "output_type": "error",
     "traceback": [
      "\u001b[0;31m---------------------------------------------------------------------------\u001b[0m",
      "\u001b[0;31mFileNotFoundError\u001b[0m                         Traceback (most recent call last)",
      "\u001b[0;32m<ipython-input-3-9db5715f1452>\u001b[0m in \u001b[0;36m<module>\u001b[0;34m\u001b[0m\n\u001b[1;32m     10\u001b[0m \u001b[0;34m\u001b[0m\u001b[0m\n\u001b[1;32m     11\u001b[0m \u001b[0;31m# read data\u001b[0m\u001b[0;34m\u001b[0m\u001b[0;34m\u001b[0m\u001b[0;34m\u001b[0m\u001b[0m\n\u001b[0;32m---> 12\u001b[0;31m \u001b[0my\u001b[0m\u001b[0;34m,\u001b[0m \u001b[0mx\u001b[0m \u001b[0;34m=\u001b[0m \u001b[0msvm_read_problem\u001b[0m\u001b[0;34m(\u001b[0m\u001b[0mtrain_path\u001b[0m\u001b[0;34m)\u001b[0m\u001b[0;34m\u001b[0m\u001b[0;34m\u001b[0m\u001b[0m\n\u001b[0m\u001b[1;32m     13\u001b[0m \u001b[0my_\u001b[0m\u001b[0;34m,\u001b[0m \u001b[0mx_\u001b[0m \u001b[0;34m=\u001b[0m \u001b[0msvm_read_problem\u001b[0m\u001b[0;34m(\u001b[0m\u001b[0mtest_path\u001b[0m\u001b[0;34m)\u001b[0m\u001b[0;34m\u001b[0m\u001b[0;34m\u001b[0m\u001b[0m\n\u001b[1;32m     14\u001b[0m \u001b[0;34m\u001b[0m\u001b[0m\n",
      "\u001b[0;32m/opt/anaconda3/lib/python3.7/site-packages/libsvm/commonutil.py\u001b[0m in \u001b[0;36msvm_read_problem\u001b[0;34m(data_file_name, return_scipy)\u001b[0m\n\u001b[1;32m     26\u001b[0m         \u001b[0mrow_ptr\u001b[0m \u001b[0;34m=\u001b[0m \u001b[0;34m[\u001b[0m\u001b[0;36m0\u001b[0m\u001b[0;34m]\u001b[0m\u001b[0;34m\u001b[0m\u001b[0;34m\u001b[0m\u001b[0m\n\u001b[1;32m     27\u001b[0m         \u001b[0mcol_idx\u001b[0m \u001b[0;34m=\u001b[0m \u001b[0;34m[\u001b[0m\u001b[0;34m]\u001b[0m\u001b[0;34m\u001b[0m\u001b[0;34m\u001b[0m\u001b[0m\n\u001b[0;32m---> 28\u001b[0;31m         \u001b[0;32mfor\u001b[0m \u001b[0mi\u001b[0m\u001b[0;34m,\u001b[0m \u001b[0mline\u001b[0m \u001b[0;32min\u001b[0m \u001b[0menumerate\u001b[0m\u001b[0;34m(\u001b[0m\u001b[0mopen\u001b[0m\u001b[0;34m(\u001b[0m\u001b[0mdata_file_name\u001b[0m\u001b[0;34m)\u001b[0m\u001b[0;34m)\u001b[0m\u001b[0;34m:\u001b[0m\u001b[0;34m\u001b[0m\u001b[0;34m\u001b[0m\u001b[0m\n\u001b[0m\u001b[1;32m     29\u001b[0m                 \u001b[0mline\u001b[0m \u001b[0;34m=\u001b[0m \u001b[0mline\u001b[0m\u001b[0;34m.\u001b[0m\u001b[0msplit\u001b[0m\u001b[0;34m(\u001b[0m\u001b[0;32mNone\u001b[0m\u001b[0;34m,\u001b[0m \u001b[0;36m1\u001b[0m\u001b[0;34m)\u001b[0m\u001b[0;34m\u001b[0m\u001b[0;34m\u001b[0m\u001b[0m\n\u001b[1;32m     30\u001b[0m                 \u001b[0;31m# In case an instance with all zero features\u001b[0m\u001b[0;34m\u001b[0m\u001b[0;34m\u001b[0m\u001b[0;34m\u001b[0m\u001b[0m\n",
      "\u001b[0;31mFileNotFoundError\u001b[0m: [Errno 2] No such file or directory: '/content/DogsVsCats/DogsVsCats/DogsVsCats.train'"
     ]
    }
   ],
   "source": [
    "from libsvm.commonutil import svm_read_problem\n",
    "from libsvm.svmutil import *\n",
    "from libsvm.svm import *\n",
    "from sklearn.model_selection import KFold\n",
    "import numpy as np\n",
    "import math\n",
    "\n",
    "train_path = '/content/DogsVsCats/DogsVsCats/DogsVsCats.train'\n",
    "test_path = '/content/DogsVsCats/DogsVsCats/DogsVsCats.test'\n",
    "\n",
    "# read data\n",
    "y, x = svm_read_problem(train_path)\n",
    "y_, x_ = svm_read_problem(test_path)\n",
    "\n",
    "\n",
    "\n",
    "print(\"Linear Model\")\n",
    "linear_model = svm_train(y, x, '-t 0')\n",
    "p_label, p_acc, p_val = svm_predict(y_, x_, linear_model)\n",
    "\n",
    "print(\"Poly Model\")\n",
    "poly_model = svm_train(y, x, '-t 1')\n",
    "p_label, p_acc, p_val = svm_predict(y_, x_, poly_model)\n",
    "\n",
    "print('We can see that linear model has better accuracry for 1 layer of SVM')\n",
    "print('Now we will test KFold')\n",
    "\n",
    "\n",
    "\n",
    "\n",
    "kf = KFold(10, True)\n",
    "#Keep track of the accuracy\n",
    "linear_model_acc = []\n",
    "poly_model_acc = []\n",
    "i = 1\n",
    "for train_index, test_index in kf.split(x):\n",
    "    x_test = np.array(x)[test_index]\n",
    "    x_train = np.array(x)[train_index]\n",
    "    y_test = np.array(y)[test_index]\n",
    "    y_train = np.array(y)[train_index]\n",
    "\n",
    "\n",
    "\n",
    "\n",
    "    print('============= Kfold No.' + str(i) + '  ============')\n",
    "    print(\"Linear Model\")\n",
    "    m_linear = svm_train(y_train, x_train, '-t 0')\n",
    "    _, p_acc, _ = svm_predict(y_test, x_test, m_linear)\n",
    "    linear_model_acc.append(p_acc[0])\n",
    "\n",
    "\n",
    "    print(\"Poly Model\")\n",
    "    m_ploy = svm_train(y_train, x_train, '-t 1')\n",
    "    _, p_acc, _ = svm_predict(y_test, x_test, m_ploy)\n",
    "    poly_model_acc.append(p_acc[0])\n",
    "\n",
    "    i = i + 1\n",
    "\n",
    "\n"
   ]
  },
  {
   "cell_type": "code",
   "execution_count": null,
   "metadata": {
    "colab": {
     "base_uri": "https://localhost:8080/",
     "height": 545
    },
    "id": "oxYzJPKr9MZo",
    "outputId": "a0be4d10-cd7c-42e0-8235-eeef2e6a2d21"
   },
   "outputs": [],
   "source": [
    "from matplotlib import pyplot as plt\n",
    "plt.plot(linear_model_acc)\n",
    "plt.title(\"Linear Model accuracy\")\n",
    "plt.show()\n",
    "\n",
    "\n",
    "plt.plot(poly_model_acc)\n",
    "plt.title(\"Polynomial Model accuracy\")\n",
    "plt.show()\n"
   ]
  },
  {
   "cell_type": "code",
   "execution_count": null,
   "metadata": {
    "colab": {
     "base_uri": "https://localhost:8080/"
    },
    "id": "xDyfiXyrsboB",
    "outputId": "dbc20b46-44f0-451a-eb31-b02db2839ffb"
   },
   "outputs": [],
   "source": [
    "print('Testing using adaboost')\n",
    "\n",
    "# keep track of errors\n",
    "alpha_array = []\n",
    "error_rate_array = []\n",
    "# Functions\n",
    "def adaboost(K, instances, input, target):\n",
    "    amount_of_instances = len(instances)\n",
    "    input = np.array(input)\n",
    "    target = np.array(target)\n",
    "\n",
    "\n",
    "\n",
    "    weight = np.asarray([1 / amount_of_instances] * amount_of_instances)\n",
    "    \n",
    "    for temp in range(K):\n",
    "        tmp = input - target\n",
    "        delta = [int(bool(x)) for x in tmp]\n",
    "\n",
    "        error_rate = np.dot(weight, delta)\n",
    "        alpha = 1/2 * (math.log((1-error_rate)/error_rate))\n",
    "        \n",
    "        alpha_array.append(alpha)\n",
    "        error_rate_array.append(error_rate)\n",
    "\n",
    "\n",
    "        new_weight = (weight*(math.exp(alpha)))/sum(weight*(math.exp(alpha)))\n",
    "        weight = new_weight\n",
    "\n",
    "\n"
   ]
  },
  {
   "cell_type": "code",
   "execution_count": null,
   "metadata": {
    "colab": {
     "base_uri": "https://localhost:8080/",
     "height": 1000
    },
    "id": "5twwb-s3-rcI",
    "outputId": "a4aca933-cc0f-4bb4-a2ad-4c998bc999cc"
   },
   "outputs": [],
   "source": [
    "print('Graphing error rate of 10K Fold')\n",
    "adaboost(10, x_, y_, p_label)\n",
    "plt.plot(alpha_array)\n",
    "plt.title('Alpha')\n",
    "plt.show()\n",
    "\n",
    "plt.plot(error_rate_array)\n",
    "plt.title('Error')\n",
    "plt.show()\n",
    "\n",
    "print('Graphing error rate of 20K Fold')\n",
    "adaboost(20, x_, y_, p_label)\n",
    "plt.plot(alpha_array)\n",
    "plt.title('Alpha')\n",
    "plt.show()\n",
    "\n",
    "plt.plot(error_rate_array)\n",
    "plt.title('Error')\n",
    "plt.show()\n"
   ]
  },
  {
   "cell_type": "code",
   "execution_count": null,
   "metadata": {
    "id": "kJvbyS57_JQq"
   },
   "outputs": [],
   "source": [
    "print('It can see that error rate and alpha still decay after 20 teps making it means that there still improvement possible. there are also some sign of overfitted')"
   ]
  }
 ],
 "metadata": {
  "colab": {
   "name": "Untitled.ipynb",
   "provenance": []
  },
  "kernelspec": {
   "display_name": "Python 3",
   "language": "python",
   "name": "python3"
  },
  "language_info": {
   "codemirror_mode": {
    "name": "ipython",
    "version": 3
   },
   "file_extension": ".py",
   "mimetype": "text/x-python",
   "name": "python",
   "nbconvert_exporter": "python",
   "pygments_lexer": "ipython3",
   "version": "3.7.6"
  }
 },
 "nbformat": 4,
 "nbformat_minor": 1
}
